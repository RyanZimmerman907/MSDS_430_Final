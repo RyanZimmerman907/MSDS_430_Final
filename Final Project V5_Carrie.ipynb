{
 "cells": [
  {
   "cell_type": "markdown",
   "metadata": {},
   "source": [
    "# Using Python to get financial data\n",
    "- MSDS 430 - Python for data Science \n",
    "- Carrie Lu & Ryan Zimmerman\n"
   ]
  },
  {
   "cell_type": "markdown",
   "metadata": {},
   "source": [
    "##### Introduction\n",
    "For the final project we're going to work with financial data.  We're planning to use the Pandas data reader and iex API as no importing of CSV datasets is necessary and this can give more real time data if needed. "
   ]
  },
  {
   "cell_type": "markdown",
   "metadata": {},
   "source": [
    "##### Table of contents\n",
    "\n",
    "- Part 1: Reading in financial data through Pandas data reader and through CSV\n",
    "- Part 2: Plots & calculations\n",
    "- Part 3: Defined Functions // Ploting multiple stocks // Ploting multiple stocks by pct gain\n",
    "- Part 4: Using the iex package and beautiful soup to scrub financial statements"
   ]
  },
  {
   "cell_type": "markdown",
   "metadata": {},
   "source": [
    "#### Part 1 Reading in Financial Data\n",
    "Below we use the pandas data reader to read in up to date financial market data.  IEX is one of the few financial packages currently maintained and allows easy data access via API."
   ]
  },
  {
   "cell_type": "code",
   "execution_count": 1,
   "metadata": {},
   "outputs": [],
   "source": [
    "#get the appropriate libraries and import the data\n",
    "import pandas\n",
    "from datetime import date,timedelta\n",
    "from pandas_datareader import data, DataReader\n",
    "\n",
    "#create object variables start and end\n",
    "start = date.today()-timedelta(720)\n",
    "end = date.today()\n",
    "\n",
    "#set up for stock ticker\n",
    "ticker = 'GOOG'\n",
    "\n",
    "#get data from iex\n",
    "data_source = 'iex'\n",
    "\n",
    "#create data reader object\n",
    "stock_data = DataReader(ticker,data_source,start,end)"
   ]
  },
  {
   "cell_type": "code",
   "execution_count": 2,
   "metadata": {
    "scrolled": true
   },
   "outputs": [
    {
     "data": {
      "text/html": [
       "<div>\n",
       "<style scoped>\n",
       "    .dataframe tbody tr th:only-of-type {\n",
       "        vertical-align: middle;\n",
       "    }\n",
       "\n",
       "    .dataframe tbody tr th {\n",
       "        vertical-align: top;\n",
       "    }\n",
       "\n",
       "    .dataframe thead th {\n",
       "        text-align: right;\n",
       "    }\n",
       "</style>\n",
       "<table border=\"1\" class=\"dataframe\">\n",
       "  <thead>\n",
       "    <tr style=\"text-align: right;\">\n",
       "      <th></th>\n",
       "      <th>open</th>\n",
       "      <th>high</th>\n",
       "      <th>low</th>\n",
       "      <th>close</th>\n",
       "      <th>volume</th>\n",
       "    </tr>\n",
       "    <tr>\n",
       "      <th>date</th>\n",
       "      <th></th>\n",
       "      <th></th>\n",
       "      <th></th>\n",
       "      <th></th>\n",
       "      <th></th>\n",
       "    </tr>\n",
       "  </thead>\n",
       "  <tbody>\n",
       "    <tr>\n",
       "      <th>2016-12-20</th>\n",
       "      <td>796.76</td>\n",
       "      <td>798.6500</td>\n",
       "      <td>793.270</td>\n",
       "      <td>796.42</td>\n",
       "      <td>951014</td>\n",
       "    </tr>\n",
       "    <tr>\n",
       "      <th>2016-12-21</th>\n",
       "      <td>795.84</td>\n",
       "      <td>796.6757</td>\n",
       "      <td>787.100</td>\n",
       "      <td>794.56</td>\n",
       "      <td>1211346</td>\n",
       "    </tr>\n",
       "    <tr>\n",
       "      <th>2016-12-22</th>\n",
       "      <td>792.36</td>\n",
       "      <td>793.3200</td>\n",
       "      <td>788.580</td>\n",
       "      <td>791.26</td>\n",
       "      <td>972169</td>\n",
       "    </tr>\n",
       "    <tr>\n",
       "      <th>2016-12-23</th>\n",
       "      <td>790.90</td>\n",
       "      <td>792.7400</td>\n",
       "      <td>787.280</td>\n",
       "      <td>789.91</td>\n",
       "      <td>623944</td>\n",
       "    </tr>\n",
       "    <tr>\n",
       "      <th>2016-12-27</th>\n",
       "      <td>790.68</td>\n",
       "      <td>797.8600</td>\n",
       "      <td>787.657</td>\n",
       "      <td>791.55</td>\n",
       "      <td>789321</td>\n",
       "    </tr>\n",
       "  </tbody>\n",
       "</table>\n",
       "</div>"
      ],
      "text/plain": [
       "              open      high      low   close   volume\n",
       "date                                                  \n",
       "2016-12-20  796.76  798.6500  793.270  796.42   951014\n",
       "2016-12-21  795.84  796.6757  787.100  794.56  1211346\n",
       "2016-12-22  792.36  793.3200  788.580  791.26   972169\n",
       "2016-12-23  790.90  792.7400  787.280  789.91   623944\n",
       "2016-12-27  790.68  797.8600  787.657  791.55   789321"
      ]
     },
     "execution_count": 2,
     "metadata": {},
     "output_type": "execute_result"
    }
   ],
   "source": [
    "#table of stock data for google\n",
    "stock_data.head()"
   ]
  },
  {
   "cell_type": "markdown",
   "metadata": {},
   "source": [
    "Our professor also wanted us to read in .CSV data so he could see us demonstrate this.  The goal here is to show that we can read in CSV information.  The next step will demonstrate while we got the data from Kaggle.com it it was difficult to find up to date CSV information on stocks.  While with enough research we probably could have, the effort to manually maintain CSV data meant that using Pandas data reader was the preferred method for importing financial information."
   ]
  },
  {
   "cell_type": "code",
   "execution_count": null,
   "metadata": {},
   "outputs": [],
   "source": [
    "#used pandas to do this so we could easily create columns\n",
    "import pandas\n",
    "\n",
    "#read in the file and created columns\n",
    "data = pandas.read_csv('prices.csv', sep=\",\")\n",
    "data.columns = ['date','symbol','open','close','low','high','volume']\n",
    "\n",
    "#show just google data\n",
    "data_goog_index = data['symbol'].str.contains('GOOG')\n",
    "print(data[data_goog_index].head(5))\n",
    "\n",
    "#show just google data and sort by date\n",
    "df = pandas.DataFrame(data)\n",
    "df_filtered = df[(df.symbol == 'GOOG')&(df.date>'2015-01-01')].sort_values(by =['date'],ascending=False)\n",
    "df_filtered.head()"
   ]
  },
  {
   "cell_type": "markdown",
   "metadata": {},
   "source": [
    "#### Part 2: Plotting financial data\n",
    "Now that we can read financial statements in, let's begin exploring it's data through plots.  In this section we plot the full stock data set for Google, and then refine this chart to just present the stock price at close every day up until the present day.  Lastly we add in a calculation or average as this is often useful in stocks."
   ]
  },
  {
   "cell_type": "code",
   "execution_count": 4,
   "metadata": {},
   "outputs": [
    {
     "data": {
      "image/png": "[encoded data removed]",
      "text/plain": [
       "<Figure size 432x288 with 1 Axes>"
      ]
     },
     "metadata": {},
     "output_type": "display_data"
    },
    {
     "data": {
      "image/png": "[encoded data removed]",
      "text/plain": [
       "<Figure size 432x288 with 1 Axes>"
      ]
     },
     "metadata": {},
     "output_type": "display_data"
    },
    {
     "data": {
      "image/png": "[encoded data removed]",
      "text/plain": [
       "<Figure size 432x288 with 1 Axes>"
      ]
     },
     "metadata": {},
     "output_type": "display_data"
    }
   ],
   "source": [
    "%matplotlib inline\n",
    "import matplotlib.pyplot as plt\n",
    "\n",
    "#convert index to date format for plotting display convenience\n",
    "stock_data.index = pandas.to_datetime(stock_data.index)\n",
    "\n",
    "#plot all variables\n",
    "stock_data.plot()\n",
    "plt.title('all info')\n",
    "plt.show()\n",
    "\n",
    "#plot all variables\n",
    "stock_data[['open','high','low','close']].plot()\n",
    "plt.title('all info excluding volume')\n",
    "plt.show()\n",
    "\n",
    "#refining to show google at close over time as volume dominates the first chart\n",
    "stock_data['close'].plot(title=ticker)\n",
    "plt.title('close price')\n",
    "plt.show()"
   ]
  },
  {
   "cell_type": "markdown",
   "metadata": {},
   "source": [
    "Typically averages are used often to determine a markets major trend, we're going to import the dow jones industrial average and then calculate the average to show how it's changed in the last two years.  This chart includes a calculation."
   ]
  },
  {
   "cell_type": "code",
   "execution_count": null,
   "metadata": {
    "scrolled": true
   },
   "outputs": [],
   "source": [
    "import numpy\n",
    "\n",
    "#read in dow jones data from Fred\n",
    "data = DataReader('DJIA', 'fred', start, end)\n",
    "\n",
    "#convert index to date format for plotting display convenience\n",
    "data.index = pandas.to_datetime(data.index)\n",
    "\n",
    "#dow jones over time\n",
    "data.plot()\n",
    "plt.show()\n",
    "\n",
    "# adding in an average line\n",
    "data.insert(1,'AVG',(numpy.sum(data.DJIA)/data.DJIA.count()))\n",
    "\n",
    "#adding in an rolling average line\n",
    "data.insert(1,'200d rolling AVG',data.DJIA.rolling(window=10,min_periods=1).mean())\n",
    "\n",
    "#dow jones over time\n",
    "data.plot()\n",
    "plt.show()\n"
   ]
  },
  {
   "cell_type": "markdown",
   "metadata": {},
   "source": [
    "In the next step we create an array for the dow jones industrial average and compare it to the previous day.  By doing this we determine the largest increases and decreases in the DJIA in the past two years"
   ]
  },
  {
   "cell_type": "code",
   "execution_count": null,
   "metadata": {},
   "outputs": [],
   "source": [
    "#Arrays \n",
    "# array calculation may have some problem if start-1 day has no data, but end day has data. in that way x,y will be different size.\n",
    "# import numpy \n",
    "# x = numpy.array(DataReader('DJIA', 'fred', start, end))\n",
    "# y = numpy.array(DataReader('DJIA', 'fred', (start-timedelta(1)), (end-timedelta(1))))\n",
    "#Matrix calculations\n",
    "# z = numpy.divide(x,y)\n",
    "\n",
    "import numpy \n",
    "x = DataReader('DJIA', 'fred', start, end)\n",
    "x = x.dropna()\n",
    "x = numpy.array(x)\n",
    "#Matrix calculations\n",
    "z = numpy.divide(x[1:],x[0:-1])\n",
    "print('The Max daily positive change in the Dow Jones in the past 2 years is:',  \"{0:.5f}%\".format((max(z)[0]-1)*100))\n",
    "print('The Max daily negative change in the down gones in the past 2 years is:', \"{0:.5f}%\".format(-((1-min(z)[0]))*100))"
   ]
  },
  {
   "cell_type": "markdown",
   "metadata": {},
   "source": [
    "#### Part 3 : User defined functions and plotting multiple stocks at a time\n",
    "Now that we can plot stock data let's move on to creating user defined functions.  Let's create a few functions that allows a user to input data and return a plot for a certain stock over a certain time period.  All the plots to date plot a single stock over time the goal for the next section is to plot multiple stocks, and then plot multiple stocks by percentage increase to see how they are performing in terms of growth."
   ]
  },
  {
   "cell_type": "code",
   "execution_count": null,
   "metadata": {},
   "outputs": [],
   "source": [
    "import pandas\n",
    "from datetime import date,timedelta\n",
    "from pandas_datareader import data, DataReader\n",
    "\n",
    "#creating a function to pull data for a user input stock\n",
    "while True:\n",
    "    try:\n",
    "        ticker = str(input(\"Please enter a stock symbol: \"))\n",
    "        start = str(input(\"Please enter a start date in YYYY-MM-DD format: \"))\n",
    "        end = str(input(\"Please enter an end date in YYYY-MM-DD format: \"))\n",
    "        data_source = 'iex'\n",
    "        stock_data = DataReader(ticker,data_source,start,end)\n",
    "        stock_data.index = pandas.to_datetime(stock_data.index)\n",
    "        stock_data['close'].plot(title=ticker)\n",
    "        break  \n",
    "        \n",
    "    except ValueError:\n",
    "        print(\"Please enter a valid stock symbol and a date in YYYY-MM-DD format, e.g.: 2018-11-23\")\n"
   ]
  },
  {
   "cell_type": "markdown",
   "metadata": {},
   "source": [
    "Let's add in another function that allows the user to input and return results"
   ]
  },
  {
   "cell_type": "code",
   "execution_count": null,
   "metadata": {},
   "outputs": [],
   "source": [
    "#creating a user defined function to do the same thing\n",
    "def stock_chart(ticker,data_source, start, end):\n",
    "        stock_data = DataReader(ticker,data_source,start,end)\n",
    "        stock_data.index = pd.to_datetime(stock_data.index)\n",
    "        return stock_data['close'].plot(title=ticker) \n",
    "\n",
    "stock_chart('GOOG', 'iex', '2018-01-01', '2018-06-01')"
   ]
  },
  {
   "cell_type": "markdown",
   "metadata": {},
   "source": [
    "Let us now uplevel this project by doing what you can't do with public data - compare two stocks at a time"
   ]
  },
  {
   "cell_type": "code",
   "execution_count": null,
   "metadata": {},
   "outputs": [],
   "source": [
    "#comparing 2 stocks at a time\n",
    "stock_data1 = DataReader('GOOG','iex','2018-01-01','2018-11-10')\n",
    "stock_data2 = DataReader('NKE','iex','2018-01-01','2018-11-10')\n",
    "stock_data1.index = pd.to_datetime(stock_data1.index)\n",
    "stock_data2.index = pd.to_datetime(stock_data2.index)\n",
    "\n",
    "plt.plot( 'volume',data=stock_data1, markersize=1, color='skyblue', linewidth=4)\n",
    "plt.plot( 'volume',data=stock_data2, markersize=1, color='red', linewidth=4)"
   ]
  },
  {
   "cell_type": "markdown",
   "metadata": {},
   "source": [
    "Comparing volumes is useful, but it's really not that helpful to the average investor.  Let's now create a function that normalizes the data in terms of percentage gain.  This function also includes conditional statements, transformations and calculations"
   ]
  },
  {
   "cell_type": "code",
   "execution_count": null,
   "metadata": {},
   "outputs": [],
   "source": [
    "#creating a function to compare stocks on percentage increase\n",
    "%matplotlib inline\n",
    "import matplotlib.pyplot as plt\n",
    "from pandas_datareader import data, DataReader\n",
    "def compare_various_stock_info(stock_list, data_source='iex',start='2018-01-01',end='2018-11-10',\n",
    "                               compare_type='volume',convert_to_percentage=True):\n",
    "    #comparing 2 stocks at a time\n",
    "    fig, ax = plt.subplots()\n",
    "    for stock in stock_list:\n",
    "        stock_data = DataReader(stock,data_source,start,end)\n",
    "        stock_data.index = pandas.to_datetime(stock_data.index)\n",
    "        if convert_to_percentage is True:\n",
    "            stock_data[compare_type] = stock_data[compare_type].divide(stock_data[compare_type][0])\n",
    "        ax.plot(compare_type,data=stock_data, markersize=1,  linewidth=4, label=stock)\n",
    "    ax.set_xlabel(\"Date\") \n",
    "    if convert_to_percentage:\n",
    "        ax.set_ylabel(\"comparing {} for {}, converted to percentage\".format(compare_type, stock_list)) \n",
    "    else:\n",
    "        ax.set_ylabel(\"comparing {} for {}\".format(compare_type, stock_list)) \n",
    "    ax.legend() # show labels of the lines\n",
    "    fig.autofmt_xdate() # make the date rotate 45 degree"
   ]
  },
  {
   "cell_type": "code",
   "execution_count": null,
   "metadata": {},
   "outputs": [],
   "source": [
    "#creating a function to pull data for a user input stock\n",
    "def run():\n",
    "    tickers = str(input(\"Please enter stock symbols (seperated by ,): \"))\n",
    "    ticker_list = tickers.split(\",\")\n",
    "    start = str(input(\"Please enter a start date in YYYY-MM-DD format: \"))\n",
    "    end = str(input(\"Please enter an end date in YYYY-MM-DD format: \"))\n",
    "    compare_type = str(input(\"enter content to compare (close, volume etc.):\"))\n",
    "    convert_to_percentage = int(input(\"enter conver to percentage or not (0 for false, 1 for true):\"))\n",
    "    convert_to_percentage = bool(convert_to_percentage)\n",
    "    compare_various_stock_info(stock_list = ticker_list, start=start, end=end, compare_type=compare_type, convert_to_percentage=convert_to_percentage)"
   ]
  },
  {
   "cell_type": "code",
   "execution_count": null,
   "metadata": {},
   "outputs": [],
   "source": [
    "# compare_various_stock_info(['GOOG','FB','MSFT'])\n",
    "run()"
   ]
  },
  {
   "cell_type": "markdown",
   "metadata": {},
   "source": [
    "#### Part 3 Summary:\n",
    "As we can see more recently many of the stocks have decreased in total value, however microsoft has actually increased slightly\n"
   ]
  },
  {
   "cell_type": "markdown",
   "metadata": {},
   "source": [
    "#### Part 4: Parsing financial statements to help build out the Owner Earning Formula\n",
    "Being honest reading in stock market prices is helpful particularly given the fact we can plot multiple charts against one another, however to truely be able to make the call on investing in a company we have to at the very least undstand some of the fundamentals of the company.  We get these fundamentals from the financial statements"
   ]
  },
  {
   "cell_type": "code",
   "execution_count": null,
   "metadata": {},
   "outputs": [],
   "source": [
    "#to get this working you have to installl the iex python package https://pypi.org/project/iexfinance/\n",
    "\n",
    "#setting up stock reader\n",
    "from iexfinance import StockReader\n",
    "\n",
    "#formatting financial data for google\n",
    "a =  StockReader(\"GOOG\")\n",
    "Financial = a.get_financials(period = 'annual')\n",
    "Financials = pandas.DataFrame.from_dict(Financials)\n",
    "\n",
    "Financials.head()"
   ]
  },
  {
   "cell_type": "markdown",
   "metadata": {},
   "source": [
    "Calculating Owner Earners: \n",
    "Calculating owner earnings is one of the many ways Rule 1 Investors (Warren Buffet) Evaluate stocks.  Calculating owner earnings is somewhat subjective, but Warren Buffets formula was broken down more recently in Invested (the book, but also in the podcas). The owner earnings formula we will work on calculating is below\n",
    "\n",
    "Owner Earnings (taken from Invested)\n",
    "\n",
    "+ Net Income\n",
    "+ +Depreciation and Amortization\n",
    "+ +Net Change: Accounts Receivable\n",
    "+ +Net Change: Accounts Payable\n",
    "+ +Income Tax\n",
    "+ +Maintenance Capex"
   ]
  },
  {
   "cell_type": "code",
   "execution_count": 9,
   "metadata": {},
   "outputs": [
    {
     "data": {
      "text/html": [
       "<div>\n",
       "<style scoped>\n",
       "    .dataframe tbody tr th:only-of-type {\n",
       "        vertical-align: middle;\n",
       "    }\n",
       "\n",
       "    .dataframe tbody tr th {\n",
       "        vertical-align: top;\n",
       "    }\n",
       "\n",
       "    .dataframe thead th {\n",
       "        text-align: right;\n",
       "    }\n",
       "</style>\n",
       "<table border=\"1\" class=\"dataframe\">\n",
       "  <thead>\n",
       "    <tr style=\"text-align: right;\">\n",
       "      <th></th>\n",
       "      <th>capitalExpenditures</th>\n",
       "      <th>changeInCash</th>\n",
       "      <th>changeToAccountReceivables</th>\n",
       "      <th>changeToInventory</th>\n",
       "      <th>changeToLiabilities</th>\n",
       "      <th>changeToNetincome</th>\n",
       "      <th>changeToOperatingActivities</th>\n",
       "      <th>depreciation</th>\n",
       "      <th>dividendsPaid</th>\n",
       "      <th>endDate</th>\n",
       "      <th>...</th>\n",
       "      <th>issuanceOfStock</th>\n",
       "      <th>maxAge</th>\n",
       "      <th>netBorrowings</th>\n",
       "      <th>netIncome</th>\n",
       "      <th>otherCashflowsFromFinancingActivities</th>\n",
       "      <th>otherCashflowsFromInvestingActivities</th>\n",
       "      <th>repurchaseOfStock</th>\n",
       "      <th>totalCashFromFinancingActivities</th>\n",
       "      <th>totalCashFromOperatingActivities</th>\n",
       "      <th>totalCashflowsFromInvestingActivities</th>\n",
       "    </tr>\n",
       "  </thead>\n",
       "  <tbody>\n",
       "    <tr>\n",
       "      <th>0</th>\n",
       "      <td>-13313000000</td>\n",
       "      <td>5624000000</td>\n",
       "      <td>-5322000000</td>\n",
       "      <td>828000000</td>\n",
       "      <td>9131000000</td>\n",
       "      <td>-27694000000</td>\n",
       "      <td>30057000000</td>\n",
       "      <td>10903000000</td>\n",
       "      <td>-13712000000</td>\n",
       "      <td>1538179200</td>\n",
       "      <td>...</td>\n",
       "      <td>669000000</td>\n",
       "      <td>1</td>\n",
       "      <td>432000000</td>\n",
       "      <td>59531000000</td>\n",
       "      <td>NaN</td>\n",
       "      <td>-745000000</td>\n",
       "      <td>-75265000000</td>\n",
       "      <td>-87876000000</td>\n",
       "      <td>77434000000</td>\n",
       "      <td>16066000000</td>\n",
       "    </tr>\n",
       "    <tr>\n",
       "      <th>1</th>\n",
       "      <td>-12451000000</td>\n",
       "      <td>-195000000</td>\n",
       "      <td>-2093000000</td>\n",
       "      <td>-2723000000</td>\n",
       "      <td>8340000000</td>\n",
       "      <td>10640000000</td>\n",
       "      <td>-8447000000</td>\n",
       "      <td>10157000000</td>\n",
       "      <td>-12769000000</td>\n",
       "      <td>1506729600</td>\n",
       "      <td>...</td>\n",
       "      <td>555000000</td>\n",
       "      <td>1</td>\n",
       "      <td>29014000000</td>\n",
       "      <td>48351000000</td>\n",
       "      <td>NaN</td>\n",
       "      <td>-124000000</td>\n",
       "      <td>-34774000000</td>\n",
       "      <td>-17974000000</td>\n",
       "      <td>64225000000</td>\n",
       "      <td>-46446000000</td>\n",
       "    </tr>\n",
       "    <tr>\n",
       "      <th>2</th>\n",
       "      <td>-12734000000</td>\n",
       "      <td>-636000000</td>\n",
       "      <td>527000000</td>\n",
       "      <td>217000000</td>\n",
       "      <td>563000000</td>\n",
       "      <td>9634000000</td>\n",
       "      <td>-902000000</td>\n",
       "      <td>10505000000</td>\n",
       "      <td>-12150000000</td>\n",
       "      <td>1474675200</td>\n",
       "      <td>...</td>\n",
       "      <td>495000000</td>\n",
       "      <td>1</td>\n",
       "      <td>22057000000</td>\n",
       "      <td>45687000000</td>\n",
       "      <td>NaN</td>\n",
       "      <td>-924000000</td>\n",
       "      <td>-31292000000</td>\n",
       "      <td>-20890000000</td>\n",
       "      <td>66231000000</td>\n",
       "      <td>-45977000000</td>\n",
       "    </tr>\n",
       "    <tr>\n",
       "      <th>3</th>\n",
       "      <td>-11247000000</td>\n",
       "      <td>7276000000</td>\n",
       "      <td>417000000</td>\n",
       "      <td>-238000000</td>\n",
       "      <td>6043000000</td>\n",
       "      <td>5353000000</td>\n",
       "      <td>5040000000</td>\n",
       "      <td>11257000000</td>\n",
       "      <td>-11561000000</td>\n",
       "      <td>1443225600</td>\n",
       "      <td>...</td>\n",
       "      <td>543000000</td>\n",
       "      <td>1</td>\n",
       "      <td>29305000000</td>\n",
       "      <td>53394000000</td>\n",
       "      <td>749000000.0</td>\n",
       "      <td>-26000000</td>\n",
       "      <td>-36752000000</td>\n",
       "      <td>-17716000000</td>\n",
       "      <td>81266000000</td>\n",
       "      <td>-56274000000</td>\n",
       "    </tr>\n",
       "  </tbody>\n",
       "</table>\n",
       "<p>4 rows × 21 columns</p>\n",
       "</div>"
      ],
      "text/plain": [
       "   capitalExpenditures  changeInCash  changeToAccountReceivables  \\\n",
       "0         -13313000000    5624000000                 -5322000000   \n",
       "1         -12451000000    -195000000                 -2093000000   \n",
       "2         -12734000000    -636000000                   527000000   \n",
       "3         -11247000000    7276000000                   417000000   \n",
       "\n",
       "   changeToInventory  changeToLiabilities  changeToNetincome  \\\n",
       "0          828000000           9131000000       -27694000000   \n",
       "1        -2723000000           8340000000        10640000000   \n",
       "2          217000000            563000000         9634000000   \n",
       "3         -238000000           6043000000         5353000000   \n",
       "\n",
       "   changeToOperatingActivities  depreciation  dividendsPaid     endDate  \\\n",
       "0                  30057000000   10903000000   -13712000000  1538179200   \n",
       "1                  -8447000000   10157000000   -12769000000  1506729600   \n",
       "2                   -902000000   10505000000   -12150000000  1474675200   \n",
       "3                   5040000000   11257000000   -11561000000  1443225600   \n",
       "\n",
       "                   ...                    issuanceOfStock  maxAge  \\\n",
       "0                  ...                          669000000       1   \n",
       "1                  ...                          555000000       1   \n",
       "2                  ...                          495000000       1   \n",
       "3                  ...                          543000000       1   \n",
       "\n",
       "   netBorrowings    netIncome  otherCashflowsFromFinancingActivities  \\\n",
       "0      432000000  59531000000                                    NaN   \n",
       "1    29014000000  48351000000                                    NaN   \n",
       "2    22057000000  45687000000                                    NaN   \n",
       "3    29305000000  53394000000                            749000000.0   \n",
       "\n",
       "   otherCashflowsFromInvestingActivities  repurchaseOfStock  \\\n",
       "0                             -745000000       -75265000000   \n",
       "1                             -124000000       -34774000000   \n",
       "2                             -924000000       -31292000000   \n",
       "3                              -26000000       -36752000000   \n",
       "\n",
       "   totalCashFromFinancingActivities  totalCashFromOperatingActivities  \\\n",
       "0                      -87876000000                       77434000000   \n",
       "1                      -17974000000                       64225000000   \n",
       "2                      -20890000000                       66231000000   \n",
       "3                      -17716000000                       81266000000   \n",
       "\n",
       "   totalCashflowsFromInvestingActivities  \n",
       "0                            16066000000  \n",
       "1                           -46446000000  \n",
       "2                           -45977000000  \n",
       "3                           -56274000000  \n",
       "\n",
       "[4 rows x 21 columns]"
      ]
     },
     "execution_count": 9,
     "metadata": {},
     "output_type": "execute_result"
    }
   ],
   "source": [
    "#Getting the cashflow statements will also require beautiful soup\n",
    "import requests \n",
    "import re\n",
    "import json\n",
    "from bs4 import BeautifulSoup\n",
    "import pandas\n",
    "\n",
    "url = 'https://finance.yahoo.com/quote/AAPL/financials?p=AAPL'\n",
    "html = requests.get(url).text\n",
    "soup = BeautifulSoup(html,'html.parser')\n",
    "\n",
    "soup_script = soup.find(\"script\",text=re.compile(\"root.App.main\")).text\n",
    "script = soup.find(\"script\",text=re.compile(\"root.App.main\")).text\n",
    "\n",
    "json_script = json.loads(re.search(\"root.App.main\\s+=\\s+(\\{.*\\})\",soup_script)[1])\n",
    "fin_data = json_script['context']['dispatcher']['stores']['QuoteSummaryStore']\n",
    "\n",
    "cash_yr = fin_data['cashflowStatementHistory']['cashflowStatements']\n",
    "cash_qtrs = fin_data['cashflowStatementHistoryQuarterly']['cashflowStatements']\n",
    "\n",
    "cash_flow = pandas.DataFrame.from_dict(cash_yr)\n",
    "\n",
    "df = pandas.DataFrame(cash_yr)\n",
    "\n",
    "# solution to get raw value from the unformatted df\n",
    "def get_raw_value_in_statement(a):\n",
    "    try:\n",
    "        return a['raw']\n",
    "    except:\n",
    "        return a\n",
    "df = df.applymap(get_raw_value_in_statement)\n",
    "df"
   ]
  },
  {
   "cell_type": "code",
   "execution_count": 6,
   "metadata": {},
   "outputs": [],
   "source": [
    "# change it to a function.\n",
    "def get_statement(ticker, frequency='year'):\n",
    "    def get_raw_value_in_statement(a):\n",
    "        try:\n",
    "            return a['raw']\n",
    "        except:\n",
    "            return a\n",
    "    url = 'https://finance.yahoo.com/quote/{}/financials?p={}'.format(ticker, ticker)\n",
    "    try:\n",
    "        html = requests.get(url).text\n",
    "        soup = BeautifulSoup(html,'html.parser')\n",
    "        soup_script = soup.find(\"script\",text=re.compile(\"root.App.main\")).text\n",
    "        script = soup.find(\"script\",text=re.compile(\"root.App.main\")).text\n",
    "        json_script = json.loads(re.search(\"root.App.main\\s+=\\s+(\\{.*\\})\",soup_script)[1])\n",
    "        fin_data = json_script['context']['dispatcher']['stores']['QuoteSummaryStore']\n",
    "    except:\n",
    "        raise Exception(\"please input a valid ticker\")\n",
    "    cash_yr = fin_data['cashflowStatementHistory']['cashflowStatements']\n",
    "    cash_qtrs = fin_data['cashflowStatementHistoryQuarterly']['cashflowStatements']\n",
    "    if frequency == 'year':\n",
    "#         cash_flow = pandas.DataFrame.from_dict(cash_yr)\n",
    "        df = pandas.DataFrame(cash_yr)\n",
    "        df = df.applymap(get_raw_value_in_statement)\n",
    "    elif frequency == 'quarter':\n",
    "#         cash_flow = pandas.DataFrame.from_dict(cash_qtrs)\n",
    "        df = pandas.DataFrame(cash_qtrs)\n",
    "        df = df.applymap(get_raw_value_in_statement)\n",
    "    else:\n",
    "        raise Exception(\"please input a valid frequency\")\n",
    "    ##### may write functions here to add columns to the df\n",
    "    ## say df['OwnerEarnings']=df['netIncome']+df['depreciation'] + etc..\n",
    "    return df"
   ]
  },
  {
   "cell_type": "code",
   "execution_count": null,
   "metadata": {},
   "outputs": [],
   "source": [
    "df = get_statement(\"GOOG\",frequency='year')\n",
    "df.head()"
   ]
  },
  {
   "cell_type": "code",
   "execution_count": null,
   "metadata": {},
   "outputs": [],
   "source": [
    "df = get_statement(\"GOOG\",frequency='quarter')\n",
    "df.head()"
   ]
  },
  {
   "cell_type": "code",
   "execution_count": null,
   "metadata": {},
   "outputs": [],
   "source": []
  },
  {
   "cell_type": "markdown",
   "metadata": {},
   "source": [
    "Here we try to do some plotting between the statement and price change."
   ]
  },
  {
   "cell_type": "code",
   "execution_count": 5,
   "metadata": {},
   "outputs": [],
   "source": [
    "# return the price change\n",
    "def get_price_change(stock, frequency='quarter'):\n",
    "    if frequency == 'quarter':\n",
    "        stock_data = DataReader(stock,data_source='iex',start='2017-07-01',end='2018-09-30')\n",
    "        stock_data.index = pandas.to_datetime(stock_data.index)\n",
    "        resample_close = stock_data['close'].resample('Q').last() # get data of last months\n",
    "    elif frequency == 'year':\n",
    "        stock_data = DataReader(stock,data_source='iex',start='2013-01-01',end='2017-12-31')\n",
    "        stock_data.index = pandas.to_datetime(stock_data.index)\n",
    "        resample_close = stock_data['close'].resample('Y').last() # get data of last months\n",
    "    else:\n",
    "        raise Exception(\"please input a valid frequency\")\n",
    "    resample_close_change = resample_close.pct_change()[1:]\n",
    "    return resample_close_change"
   ]
  },
  {
   "cell_type": "code",
   "execution_count": 14,
   "metadata": {},
   "outputs": [],
   "source": [
    "# here is the function to plot the stock price chang with any column in financial statement. \n",
    "def plot_price_change_vs_financial_statement(stock, statement_column,frequency='quarter'):\n",
    "    price_change = get_price_change(stock=stock, frequency=frequency)\n",
    "    df = get_statement(stock,frequency)\n",
    "    df_plot = df[statement_column]\n",
    "    plt.plot(df_plot, price_change, 'o')\n",
    "    plt.ylabel(stock + ' price change in last four '+frequency)\n",
    "    plt.xlabel(statement_column)\n",
    "    plt.title('relationship between price change and financial statement')"
   ]
  },
  {
   "cell_type": "code",
   "execution_count": 15,
   "metadata": {},
   "outputs": [
    {
     "data": {
      "image/png": "[encoded data removed]",
      "text/plain": [
       "<Figure size 432x288 with 1 Axes>"
      ]
     },
     "metadata": {},
     "output_type": "display_data"
    }
   ],
   "source": [
    "plot_price_change_vs_financial_statement('FB', 'changeToNetincome')"
   ]
  },
  {
   "cell_type": "code",
   "execution_count": 16,
   "metadata": {},
   "outputs": [
    {
     "data": {
      "image/png": "[encoded data removed]",
      "text/plain": [
       "<Figure size 432x288 with 1 Axes>"
      ]
     },
     "metadata": {},
     "output_type": "display_data"
    }
   ],
   "source": [
    "plot_price_change_vs_financial_statement('FB', 'changeToNetincome', frequency='year')"
   ]
  },
  {
   "cell_type": "markdown",
   "metadata": {},
   "source": [
    "From the above two plot we can see that only netincome change may not tell much about the price change."
   ]
  },
  {
   "cell_type": "code",
   "execution_count": null,
   "metadata": {},
   "outputs": [],
   "source": []
  }
 ],
 "metadata": {
  "kernelspec": {
   "display_name": "Python 3",
   "language": "python",
   "name": "python3"
  },
  "language_info": {
   "codemirror_mode": {
    "name": "ipython",
    "version": 3
   },
   "file_extension": ".py",
   "mimetype": "text/x-python",
   "name": "python",
   "nbconvert_exporter": "python",
   "pygments_lexer": "ipython3",
   "version": "3.6.5"
  }
 },
 "nbformat": 4,
 "nbformat_minor": 2
}
