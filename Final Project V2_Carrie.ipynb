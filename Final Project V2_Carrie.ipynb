{
 "cells": [
  {
   "cell_type": "markdown",
   "metadata": {},
   "source": [
    "# Using Python to get financial data\n",
    "### MSDS 430 - Python for data Science - Final Project\n",
    "###### Carrie Lu & Ryan Zimmerman\n"
   ]
  },
  {
   "cell_type": "markdown",
   "metadata": {},
   "source": [
    "For the final project we're going to work with financial data.  We're planning to use the Pandas data reader and iex API as no importing of CSV datasets is necessary and this can give more real time data if needed. "
   ]
  },
  {
   "cell_type": "code",
   "execution_count": null,
   "metadata": {},
   "outputs": [],
   "source": [
    "#get the appropriate libraries and import the data\n",
    "import pandas\n",
    "from datetime import date,timedelta\n",
    "from pandas_datareader import data, DataReader\n",
    "\n",
    "\n",
    "#create object variables start and end\n",
    "start = date.today()-timedelta(720)\n",
    "end = date.today()\n",
    "\n",
    "\n",
    "#set up for stock ticker\n",
    "ticker = 'GOOG'\n",
    "\n",
    "#get data from iex\n",
    "data_source = 'iex'\n",
    "\n",
    "\n",
    "#create data reader object\n",
    "stock_data = DataReader(ticker,data_source,start,end)\n",
    "\n"
   ]
  },
  {
   "cell_type": "code",
   "execution_count": null,
   "metadata": {},
   "outputs": [],
   "source": [
    "#table of stock data for google\n",
    "stock_data.head()"
   ]
  },
  {
   "cell_type": "markdown",
   "metadata": {},
   "source": [
    "Our professor also wanted us to read in .CSV data so he could see us demonstrate this.  The goal here is to show that we can read in CSV information. We did choose however to use Pandas for our project.  The next step will demonstrate while we got the data from Kaggle.com it it was difficult to find up to date CSV information on stocks.  While with enough research we probably could have, the effort to manually maintain CSV data meant that using Pandas data reader was the preferred method for importing financial information."
   ]
  },
  {
   "cell_type": "code",
   "execution_count": null,
   "metadata": {},
   "outputs": [],
   "source": [
    "#used pandas to do this so we could easily create columns\n",
    "import pandas as pd\n",
    "\n",
    "#read in the file and created columns\n",
    "data = pd.read_csv('prices.csv', sep=\",\")\n",
    "data.columns = ['date','symbol','open','close','low','high','volume']\n",
    "\n",
    "#show just google data\n",
    "data_goog_index = data['symbol'].str.contains('GOOG')\n",
    "print(data[data_goog_index].head(5))\n",
    "\n",
    "#show just google data and sort by date\n",
    "df = pd.DataFrame(data)\n",
    "df_filtered = df[(df.symbol == 'GOOG')&(df.date>'2015-01-01')].sort_values(by =['date'],ascending=False)\n",
    "df_filtered.head()\n",
    "\n",
    "\n"
   ]
  },
  {
   "cell_type": "code",
   "execution_count": null,
   "metadata": {},
   "outputs": [],
   "source": [
    "%matplotlib inline\n",
    "import matplotlib.pyplot as plt\n",
    "\n",
    "#plot all variables\n",
    "stock_data.plot()\n",
    "plt.show()\n",
    "\n",
    "#refining to show google at close over time as volume dominates the first chart\n",
    "stock_data['close'].plot(title=ticker)"
   ]
  },
  {
   "cell_type": "markdown",
   "metadata": {},
   "source": [
    "Typically averages are used often to determine a markets major trend, we're going to import the dow jones industrial average and then calculate the average to show how it's changed in the last two years"
   ]
  },
  {
   "cell_type": "code",
   "execution_count": null,
   "metadata": {
    "scrolled": true
   },
   "outputs": [],
   "source": [
    "import numpy as np\n",
    "import pandas as pd\n",
    "\n",
    "#read in dow jones data from Fred\n",
    "data = DataReader('DJIA', 'fred', start, end)\n",
    "\n",
    "#dow jones over time\n",
    "data.plot()\n",
    "plt.show()\n",
    "\n",
    "#adding in an average line\n",
    "data.insert(1,'AVG',(np.sum(data.DJIA)/data.DJIA.count()))\n",
    "\n",
    "\n",
    "#dow jones over time\n",
    "data.plot()\n",
    "plt.show()\n"
   ]
  },
  {
   "cell_type": "markdown",
   "metadata": {},
   "source": [
    "Let's create a function that allows a user to input data and return a plot for a certain stock over a certain time period"
   ]
  },
  {
   "cell_type": "code",
   "execution_count": null,
   "metadata": {},
   "outputs": [],
   "source": [
    "import pandas\n",
    "from datetime import date,timedelta\n",
    "from pandas_datareader import data, DataReader\n",
    "\n",
    "\n",
    "#creating a function to pull data for a user input stock\n",
    "while True:\n",
    "    try:\n",
    "         ticker = str(input(\"Please enter a stock symbol: \"))\n",
    "         start = str(input(\"Please enter a start date in YYYY-MM-DD format: \"))\n",
    "         end = str(input(\"Please enter an end date in YYYY-MM-DD format: \"))\n",
    "         data_source = 'iex'\n",
    "         stock_data = DataReader(ticker,data_source,start,end)\n",
    "         stock_data['close'].plot(title=ticker)\n",
    "         break  \n",
    "        \n",
    "    except ValueError:\n",
    "         print(\"Please enter a valid stock symbol and a date in YYYY-MM-DD format, e.g.: 2018-11-23\")\n",
    "\n",
    "\n",
    "#creating a user defined function to do the same thing\n",
    "def stock_chart(ticker,data_source = 'iex', start,end):\n",
    "         stock_data = DataReader(ticker,data_source,start,end)\n",
    "         return stock_data['close'].plot(title=ticker) \n",
    "\n",
    "stock_chart(ticker ='GOOG', start = '2018-01-01', end ='2018-11-01')\n",
    "\n",
    "            "
   ]
  },
  {
   "cell_type": "code",
   "execution_count": null,
   "metadata": {},
   "outputs": [],
   "source": [
    "#comparing 2 stocks at a time\n",
    "stock_data1 = DataReader('GOOG','iex','2018-01-01','2018-11-10')\n",
    "stock_data2 = DataReader('NKE','iex','2018-01-01','2018-11-10')\n",
    "\n",
    "plt.plot( 'volume',data=stock_data1, markersize=1, color='skyblue', linewidth=4)\n",
    "plt.plot( 'volume',data=stock_data2, markersize=1, color='red', linewidth=4)\n",
    "\n"
   ]
  },
  {
   "cell_type": "code",
   "execution_count": 1,
   "metadata": {},
   "outputs": [],
   "source": [
    "%matplotlib inline\n",
    "import matplotlib.pyplot as plt\n",
    "from pandas_datareader import data, DataReader\n",
    "def compare_various_stock_info(stock_list, data_source='iex',start='2018-01-01',end='2018-11-10',\n",
    "                               compare_type='volume',convert_to_percentage=True):\n",
    "    #comparing 2 stocks at a time\n",
    "    for stock in stock_list:\n",
    "        stock_data = DataReader(stock,data_source,start,end)\n",
    "        if convert_to_percentage is True:\n",
    "            stock_data[compare_type] = stock_data[compare_type].divide(stock_data[compare_type][0])\n",
    "        plt.plot(compare_type,data=stock_data, markersize=1,  linewidth=4)\n",
    "    plt.xlabel(\"Date\") \n",
    "    if convert_to_percentage:\n",
    "        plt.ylabel(\"comparing {} for {}, converted to percentage\".format(compare_type, stock_list)) \n",
    "    else:\n",
    "        plt.ylabel(\"comparing {} for {}\".format(compare_type, stock_list)) \n",
    "    # TODO: set date format https://matplotlib.org/examples/api/date_demo.html"
   ]
  },
  {
   "cell_type": "code",
   "execution_count": 3,
   "metadata": {},
   "outputs": [],
   "source": [
    "#creating a function to pull data for a user input stock\n",
    "def run():\n",
    "    tickers = str(input(\"Please enter stock symbols (seperated by ,): \"))\n",
    "    ticker_list = tickers.split(\",\")\n",
    "    start = str(input(\"Please enter a start date in YYYY-MM-DD format: \"))\n",
    "    end = str(input(\"Please enter an end date in YYYY-MM-DD format: \"))\n",
    "    compare_type = str(input(\"enter content to compare (close, volume etc.):\"))\n",
    "    convert_to_percentage = int(input(\"enter conver to percentage or not (0 for false, 1 for true):\"))\n",
    "    convert_to_percentage = bool(convert_to_percentage)\n",
    "    compare_various_stock_info(stock_list = ticker_list, start=start, end=end, compare_type=compare_type, convert_to_percentage=convert_to_percentage)"
   ]
  },
  {
   "cell_type": "code",
   "execution_count": 4,
   "metadata": {},
   "outputs": [
    {
     "name": "stdout",
     "output_type": "stream",
     "text": [
      "Please enter stock symbols (seperated by ,): GOOG,FB,MSFT\n",
      "Please enter a start date in YYYY-MM-DD format: 2018-01-01\n",
      "Please enter an end date in YYYY-MM-DD format: 2018-12-31\n",
      "enter content to compare (close, volume etc.):volume\n",
      "enter conver to percentage or not (0 for false, 1 for true)1\n"
     ]
    },
    {
     "data": {
      "image/png": "[encoded data removed]",
      "text/plain": [
       "<Figure size 432x288 with 1 Axes>"
      ]
     },
     "metadata": {
      "needs_background": "light"
     },
     "output_type": "display_data"
    }
   ],
   "source": [
    "# compare_various_stock_info(['GOOG','FB'])\n",
    "run()"
   ]
  },
  {
   "cell_type": "code",
   "execution_count": null,
   "metadata": {},
   "outputs": [],
   "source": [
    "run()"
   ]
  },
  {
   "cell_type": "code",
   "execution_count": null,
   "metadata": {},
   "outputs": [],
   "source": []
  },
  {
   "cell_type": "code",
   "execution_count": null,
   "metadata": {},
   "outputs": [],
   "source": []
  },
  {
   "cell_type": "code",
   "execution_count": null,
   "metadata": {},
   "outputs": [],
   "source": []
  }
 ],
 "metadata": {
  "kernelspec": {
   "display_name": "Python 3",
   "language": "python",
   "name": "python3"
  },
  "language_info": {
   "codemirror_mode": {
    "name": "ipython",
    "version": 3
   },
   "file_extension": ".py",
   "mimetype": "text/x-python",
   "name": "python",
   "nbconvert_exporter": "python",
   "pygments_lexer": "ipython3",
   "version": "3.7.0"
  }
 },
 "nbformat": 4,
 "nbformat_minor": 2
}
